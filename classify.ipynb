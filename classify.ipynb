{
 "cells": [
  {
   "cell_type": "code",
   "execution_count": 1,
   "id": "26119e3f",
   "metadata": {},
   "outputs": [],
   "source": [
    "import rasterio\n",
    "import numpy as np\n",
    "import joblib\n",
    "import pandas as pd"
   ]
  },
  {
   "cell_type": "code",
   "execution_count": 5,
   "id": "875d4de9",
   "metadata": {},
   "outputs": [
    {
     "name": "stdout",
     "output_type": "stream",
     "text": [
      "✅ Tổng sample: 1072\n"
     ]
    }
   ],
   "source": [
    "\n",
    "\n",
    "# Đọc từng file Excel hoặc CSV\n",
    "df1 = pd.read_csv(\"sentinel.csv\")  # hoặc pd.read_csv(\"file1.csv\")\n",
    "df2 = pd.read_csv(\"sentinel4_table.csv\")\n",
    "df3 = pd.read_csv(\"sentinel3.csv\")\n",
    "df4 = pd.read_csv(\"sentinel5.csv\")\n",
    "\n",
    "df_combined = pd.concat([df1, df2, df3, df4], \n",
    "                       ignore_index=True,  # Reset index\n",
    "                       axis=0)  # Stack vertically\n",
    "\n",
    "\n",
    "# Xem qua\n",
    "\n",
    "print(\"✅ Tổng sample:\", len(df_combined))\n",
    "df_combined\n",
    "df_combined = df_combined.sort_values(by=['Classvalue'])\n",
    "# Lưu lại file đã ghép\n",
    "df_combined.to_csv(\"sentinel_combined.csv\", index=False)\n"
   ]
  },
  {
   "cell_type": "code",
   "execution_count": null,
   "id": "19670e73",
   "metadata": {},
   "outputs": [],
   "source": []
  }
 ],
 "metadata": {
  "kernelspec": {
   "display_name": "myenv",
   "language": "python",
   "name": "python3"
  },
  "language_info": {
   "codemirror_mode": {
    "name": "ipython",
    "version": 3
   },
   "file_extension": ".py",
   "mimetype": "text/x-python",
   "name": "python",
   "nbconvert_exporter": "python",
   "pygments_lexer": "ipython3",
   "version": "3.10.16"
  }
 },
 "nbformat": 4,
 "nbformat_minor": 5
}
